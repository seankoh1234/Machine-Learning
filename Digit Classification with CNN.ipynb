{
 "cells": [
  {
   "cell_type": "markdown",
   "id": "582a006d",
   "metadata": {},
   "source": [
    "# Digit Recogniser on Kaggle with CNN (Tensorflow)"
   ]
  },
  {
   "cell_type": "markdown",
   "id": "45b15dcb",
   "metadata": {},
   "source": [
    "With trememndous help from this Kaggle notebook by Yassine Gouzham: https://www.kaggle.com/code/yassineghouzam/introduction-to-cnn-keras-0-997-top-6/notebook\n",
    "\n",
    "Main difference is a greatly simplified CNN model."
   ]
  },
  {
   "cell_type": "markdown",
   "id": "17946fa8",
   "metadata": {},
   "source": [
    "## Import dependencies and load data"
   ]
  },
  {
   "cell_type": "code",
   "execution_count": 3,
   "id": "302acbb3",
   "metadata": {},
   "outputs": [],
   "source": [
    "import numpy as np\n",
    "import pandas as pd\n",
    "import matplotlib.pyplot as plt\n",
    "from sklearn.model_selection import train_test_split\n",
    "\n",
    "import keras\n",
    "from keras.utils.np_utils import to_categorical\n",
    "from keras.models import Sequential\n",
    "from keras.layers import Dense, Dropout, Flatten, Conv2D, MaxPool2D, Rescaling, RandomRotation\n",
    "from keras.callbacks import ReduceLROnPlateau\n",
    "\n",
    "np.random.seed(1)"
   ]
  },
  {
   "cell_type": "code",
   "execution_count": 4,
   "id": "60f6021c",
   "metadata": {},
   "outputs": [
    {
     "name": "stdout",
     "output_type": "stream",
     "text": [
      "Nulls in X:\n",
      "count       784\n",
      "unique        1\n",
      "top       False\n",
      "freq        784\n",
      "dtype: object\n",
      "\n",
      "Nulls in test set:\n",
      "count       784\n",
      "unique        1\n",
      "top       False\n",
      "freq        784\n",
      "dtype: object\n"
     ]
    },
    {
     "data": {
      "image/png": "[encoded data removed]",
      "text/plain": [
       "<Figure size 432x288 with 1 Axes>"
      ]
     },
     "metadata": {
      "needs_background": "light"
     },
     "output_type": "display_data"
    }
   ],
   "source": [
    "x = pd.read_csv('C:/Users/user/Documents/coding/digit class/train.csv')\n",
    "test = pd.read_csv('C:/Users/user/Documents/coding/digit class/test.csv')\n",
    "\n",
    "y = x.label\n",
    "x = x.drop('label', axis=1)\n",
    "y.value_counts().sort_index().plot(kind='bar')\n",
    "\n",
    "print(f'Nulls in X:\\n{x.isnull().any().describe()}\\n')\n",
    "print(f'Nulls in test set:\\n{test.isnull().any().describe()}')"
   ]
  },
  {
   "cell_type": "markdown",
   "id": "e74657a3",
   "metadata": {},
   "source": [
    "## Some preprocessing"
   ]
  },
  {
   "cell_type": "code",
   "execution_count": 5,
   "id": "be7fc6fb",
   "metadata": {},
   "outputs": [],
   "source": [
    "y = to_categorical(y, num_classes=10)\n",
    "\n",
    "# reshape to 42000 rows of 28x28x1 (1 channel since images are grayscale)\n",
    "x = x.values.reshape((-1,28,28,1))\n",
    "test = test.values.reshape((-1,28,28,1))\n",
    "\n",
    "# split 20% test set, and stratify to make sure distribution of labels stays roughly similar to the complete set\n",
    "xtrain, xval, ytrain, yval = train_test_split(x,y,test_size = 0.2, random_state=1, stratify=y)"
   ]
  },
  {
   "cell_type": "markdown",
   "id": "ec641a31",
   "metadata": {},
   "source": [
    "## CNN Model with learning rate reduction on plateau"
   ]
  },
  {
   "cell_type": "code",
   "execution_count": 6,
   "id": "4e9acf40",
   "metadata": {},
   "outputs": [],
   "source": [
    "model = Sequential([keras.Input((28,28,1)),\n",
    "    Rescaling(1./255),                     \n",
    "    RandomRotation(0.1),\n",
    "    # base\n",
    "    Conv2D(32, (5,5), activation='relu'),  #24*24 feature map\n",
    "    Conv2D(32, (5,5), activation='relu'), #20*20\n",
    "    MaxPool2D(pool_size=(2,2)), #10*10\n",
    "    Dropout(0.25),\n",
    "    # head\n",
    "    Flatten(),\n",
    "    Dense(32, activation = 'relu'),\n",
    "    Dense(10, activation = 'softmax')\n",
    "    ])\n",
    "\n",
    "model.compile(optimizer='rmsprop',loss='categorical_crossentropy',metrics=['accuracy'])\n",
    "lrr = ReduceLROnPlateau(monitor='val_accuracy',patience=3,verbose=1,factor=0.5,min_lr=0.00001)"
   ]
  },
  {
   "cell_type": "code",
   "execution_count": 7,
   "id": "6a839d9e",
   "metadata": {},
   "outputs": [
    {
     "name": "stdout",
     "output_type": "stream",
     "text": [
      "Epoch 1/10\n",
      "1050/1050 [==============================] - 13s 12ms/step - loss: 0.2672 - accuracy: 0.9170 - val_loss: 0.0921 - val_accuracy: 0.9743 - lr: 0.0010\n",
      "Epoch 2/10\n",
      "1050/1050 [==============================] - 13s 12ms/step - loss: 0.1060 - accuracy: 0.9668 - val_loss: 0.0726 - val_accuracy: 0.9782 - lr: 0.0010\n",
      "Epoch 3/10\n",
      "1050/1050 [==============================] - 24s 23ms/step - loss: 0.0849 - accuracy: 0.9735 - val_loss: 0.0773 - val_accuracy: 0.9788 - lr: 0.0010\n",
      "Epoch 4/10\n",
      "1050/1050 [==============================] - 13s 13ms/step - loss: 0.0715 - accuracy: 0.9778 - val_loss: 0.0660 - val_accuracy: 0.9792 - lr: 0.0010\n",
      "Epoch 5/10\n",
      "1050/1050 [==============================] - 12s 12ms/step - loss: 0.0692 - accuracy: 0.9791 - val_loss: 0.0648 - val_accuracy: 0.9807 - lr: 0.0010\n",
      "Epoch 6/10\n",
      "1050/1050 [==============================] - 14s 13ms/step - loss: 0.0629 - accuracy: 0.9810 - val_loss: 0.0541 - val_accuracy: 0.9843 - lr: 0.0010\n",
      "Epoch 7/10\n",
      "1050/1050 [==============================] - 13s 12ms/step - loss: 0.0607 - accuracy: 0.9812 - val_loss: 0.0546 - val_accuracy: 0.9852 - lr: 0.0010\n",
      "Epoch 8/10\n",
      "1050/1050 [==============================] - 12s 11ms/step - loss: 0.0576 - accuracy: 0.9832 - val_loss: 0.0542 - val_accuracy: 0.9864 - lr: 0.0010\n",
      "Epoch 9/10\n",
      "1050/1050 [==============================] - 12s 12ms/step - loss: 0.0578 - accuracy: 0.9826 - val_loss: 0.0576 - val_accuracy: 0.9863 - lr: 0.0010\n",
      "Epoch 10/10\n",
      "1050/1050 [==============================] - 13s 12ms/step - loss: 0.0571 - accuracy: 0.9834 - val_loss: 0.0586 - val_accuracy: 0.9869 - lr: 0.0010\n"
     ]
    }
   ],
   "source": [
    "hist = model.fit(x=xtrain,y=ytrain,epochs=10,validation_data=(xval,yval),callbacks=[lrr])"
   ]
  },
  {
   "cell_type": "code",
   "execution_count": 8,
   "id": "796a73a5",
   "metadata": {},
   "outputs": [
    {
     "data": {
      "image/png": "[encoded data removed]",
      "text/plain": [
       "<Figure size 432x288 with 2 Axes>"
      ]
     },
     "metadata": {
      "needs_background": "light"
     },
     "output_type": "display_data"
    }
   ],
   "source": [
    "fig, ax = plt.subplots(2,1)\n",
    "ax[0].plot(hist.history['loss'], color='orange', label=\"Training loss\")\n",
    "ax[0].plot(hist.history['val_loss'], color='b', label=\"Validation loss\")\n",
    "legend=ax[0].legend()\n",
    "\n",
    "ax[1].plot(hist.history['accuracy'], color='orange', label=\"Training accuracy\")\n",
    "ax[1].plot(hist.history['val_accuracy'], color='b',label=\"Validation accuracy\")\n",
    "legend = ax[1].legend()"
   ]
  },
  {
   "cell_type": "markdown",
   "id": "c9d97868",
   "metadata": {},
   "source": [
    "We see a smooth increase in validation accuracy and decrease in validation loss over 10 epochs, with little sign of overfitting. Training accuracy and loss plateaued."
   ]
  },
  {
   "cell_type": "markdown",
   "id": "3fb3aedc",
   "metadata": {},
   "source": [
    "## Result:\n",
    "The model predictions achieved a score of 0.98628 on the private test set."
   ]
  }
 ],
 "metadata": {
  "kernelspec": {
   "display_name": "Python 3 (ipykernel)",
   "language": "python",
   "name": "python3"
  },
  "language_info": {
   "codemirror_mode": {
    "name": "ipython",
    "version": 3
   },
   "file_extension": ".py",
   "mimetype": "text/x-python",
   "name": "python",
   "nbconvert_exporter": "python",
   "pygments_lexer": "ipython3",
   "version": "3.9.12"
  }
 },
 "nbformat": 4,
 "nbformat_minor": 5
}
